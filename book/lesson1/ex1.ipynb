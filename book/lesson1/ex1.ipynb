{
 "cells": [
  {
   "cell_type": "code",
   "execution_count": 11,
   "metadata": {},
   "outputs": [
    {
     "data": {
      "text/plain": [
       "<16512x5 sparse matrix of type '<class 'numpy.float64'>'\n",
       "\twith 16512 stored elements in Compressed Sparse Row format>"
      ]
     },
     "execution_count": 11,
     "metadata": {},
     "output_type": "execute_result"
    }
   ],
   "source": [
    "import os\n",
    "import tarfile\n",
    "import pandas as pd\n",
    "from pandas.plotting import scatter_matrix\n",
    "from six.moves import urllib\n",
    "import numpy as np\n",
    "from sklearn.model_selection import train_test_split #package for splitting up the test and training data\n",
    "from sklearn.model_selection import StratifiedShuffleSplit #for stratified sampling\n",
    "import matplotlib.pyplot as plt \n",
    "from sklearn.preprocessing import Imputer\n",
    "from sklearn.preprocessing import LabelEncoder\n",
    "from sklearn.preprocessing import OneHotEncoder\n",
    "\n",
    "DOWNLOAD_ROOT = \"https://raw.githubusercontent.com/ageron/handson-ml/master/\"\n",
    "HOUSING_PATH = \"datasets/housing\"\n",
    "HOUSING_URL = DOWNLOAD_ROOT + HOUSING_PATH + \"/housing.tgz\"\n",
    "\n",
    "\n",
    "# loads the housing data from github\n",
    "def fetch_housing_data(housing_url=HOUSING_URL, housing_path=HOUSING_PATH):\n",
    "    if not os.path.isdir(housing_path): #checks to see if dir exists\n",
    "        os.makedirs(housing_path)\n",
    "    tgz_path = os.path.join(housing_path, \"housing.tgz\") #path for zip file\n",
    "    urllib.request.urlretrieve(housing_url, tgz_path) #requests zip file and stores it in location\n",
    "    housing_tgz = tarfile.open(tgz_path) #opens the file\n",
    "    housing_tgz.extractall(path=housing_path) #extracts the file\n",
    "    housing_tgz.close() #closes file\n",
    "# reads csv file for data\n",
    "def load_housing_data(housing_path=HOUSING_PATH):\n",
    "    csv_path = os.path.join(housing_path, \"housing.csv\") #creates link to path of file\n",
    "    return pd.read_csv(csv_path) #returns file that was previously downloaded\n",
    "\n",
    "housing = load_housing_data() \n",
    "#splits the housing data into a training set and a test set\n",
    "\n",
    "#median income data is reduced in order to stratify the data\n",
    "housing[\"income_cat\"] = np.ceil(housing[\"median_income\"] / 1.5) # divides values by 1.5 and rounds up\n",
    "housing[\"income_cat\"].where(housing[\"income_cat\"] < 5, 5.0, inplace=True) #sets all values that are greater than 5 to 5\n",
    "\n",
    "#splits data into test and training sets using stratified method\n",
    "split = StratifiedShuffleSplit(n_splits=1, test_size=.2, random_state=42)\n",
    "for train_index, test_index in split.split(housing, housing[\"income_cat\"]):\n",
    "    strat_train_set = housing.loc[train_index]\n",
    "    strat_test_set = housing.loc[test_index]\n",
    "#drops the income_cat used for indexing\n",
    "for set in (strat_train_set, strat_test_set):\n",
    "    set.drop([\"income_cat\"], axis=1, inplace=True)\n",
    "housing = strat_train_set.copy()\n",
    "# housing.plot(kind=\"scatter\", x=\"longitude\", y=\"latitude\", alpha=.1,\n",
    "#             s=housing[\"population\"]/100,\n",
    "#             label=\"population\",\n",
    "#             c=\"median_house_value\", \n",
    "#             cmap=plt.get_cmap(\"jet\"), colorbar=True) #scatterplot of lon and lat vals of the houses,\n",
    "# plt.legend()\n",
    "\n",
    "# attributes = [\"median_house_value\", \"median_income\", \"total_rooms\", \"housing_median_age\"] #main attr for comparing\n",
    "# scatter_matrix(housing[attributes], figsize=(12, 8)) #scatterplot of main attr\n",
    "# housing.plot(kind=\"scatter\", x=\"median_income\", y=\"median_house_value\", alpha=.1) #see coorelation between median_income and house val\n",
    "\n",
    "housing[\"rooms_per_household\"] = housing[\"total_rooms\"]/housing[\"households\"]#number of rooms per households\n",
    "housing[\"bedrooms_per_room\"] = housing[\"total_bedrooms\"]/housing[\"total_rooms\"] #number of bedrooms per household\n",
    "housing[\"population_per_household\"] = housing[\"population\"]/housing[\"households\"]#average population for each household\n",
    "\n",
    "corr_matrix = housing.corr()#gets standard coorelation cooefficent for housing data\n",
    "corr_matrix[\"median_house_value\"].sort_values(ascending=False)#how much each variable coorelates with median_house_val\n",
    "\n",
    "housing = strat_train_set.drop(\"median_house_value\", axis=1) #drops the median_house_value \n",
    "housing_labels = strat_train_set[\"median_house_value\"].copy()#copies in order to seperate predictors and labels\n",
    "\n",
    "# housing.dropna(subset=[\"total_bedroom\"]) #drops districts that have null values for total_bedroom\n",
    "imputer = Imputer(strategy=\"median\") #new importer object that is meant to find median values\n",
    "housing_num = housing.drop(\"ocean_proximity\",  axis=1) #imputer doesn't work with non-numerical vals\n",
    "imputer.fit(housing_num) #apply the imputer onto the dataset\n",
    "X = imputer.transform(housing_num) #transforms the housing_num set\n",
    "housing_tr = pd.DataFrame(X, columns=housing_num.columns) #transforms numpy array into pandas dataframe\n",
    "\n",
    "encoder = LabelEncoder() #converts text values to number values, assumes nearby values are more similiar then far apart ones\n",
    "housing_cat = housing[\"ocean_proximity\"] #selects ocean proximity array which is only text\n",
    "housing_cat_encoded = encoder.fit_transform(housing_cat)#apply transform on text category\n",
    "encoder = OneHotEncoder() #converts text to number with a hot and cold attr\n",
    "housing_cat_1hot = encoder.fit_transform(housing_cat_encoded.reshape(-1,1)) #applies the hot and cold attr\n",
    "\n"
   ]
  },
  {
   "cell_type": "code",
   "execution_count": null,
   "metadata": {},
   "outputs": [],
   "source": []
  }
 ],
 "metadata": {
  "kernelspec": {
   "display_name": "Python 3",
   "language": "python",
   "name": "python3"
  },
  "language_info": {
   "codemirror_mode": {
    "name": "ipython",
    "version": 3
   },
   "file_extension": ".py",
   "mimetype": "text/x-python",
   "name": "python",
   "nbconvert_exporter": "python",
   "pygments_lexer": "ipython3",
   "version": "3.6.4"
  }
 },
 "nbformat": 4,
 "nbformat_minor": 2
}
